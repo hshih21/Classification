{
 "cells": [
  {
   "cell_type": "markdown",
   "metadata": {},
   "source": [
    "# HM1: Logistic Regression.\n",
    "\n",
    "### Name: [Meijie Shih]\n"
   ]
  },
  {
   "cell_type": "markdown",
   "metadata": {},
   "source": [
    "#### For this assignment, you will build 6 models. You need to train Logistic Regression/Regularized Logistic Regression each with Batch Gradient Descent, Stochastic Gradient Descent and Mini Batch Gradient Descent. Also you should plot their objective values versus epochs and compare their training and testing accuracies. You will need to tune the parameters a little bit to obtain reasonable results.\n",
    "\n",
    "#### You do not have to follow the following procedure. You may implement your own functions and methods, but you need to show your results and plots."
   ]
  },
  {
   "cell_type": "code",
   "execution_count": 2,
   "metadata": {},
   "outputs": [],
   "source": [
    "# Load Packages\n",
    "import pandas as pd\n",
    "import numpy as np"
   ]
  },
  {
   "cell_type": "markdown",
   "metadata": {},
   "source": [
    "# 1. Data processing\n",
    "\n",
    "- Download the Breast Cancer dataset from canvas or from https://archive.ics.uci.edu/ml/datasets/breast+cancer+wisconsin+(diagnostic)\n",
    "- Load the data.\n",
    "- Preprocess the data."
   ]
  },
  {
   "cell_type": "markdown",
   "metadata": {},
   "source": [
    "## 1.1. Load the data"
   ]
  },
  {
   "cell_type": "code",
   "execution_count": 3,
   "metadata": {},
   "outputs": [],
   "source": [
    "df = pd.read_csv('data.csv')"
   ]
  },
  {
   "cell_type": "markdown",
   "metadata": {},
   "source": [
    "## 1.2 Examine and clean data"
   ]
  },
  {
   "cell_type": "code",
   "execution_count": 4,
   "metadata": {
    "scrolled": true
   },
   "outputs": [],
   "source": [
    "# Some columns may not be useful for the model (For example, the first column contains ID number which may be irrelavant). \n",
    "# You need to get rid of the ID number feature.\n",
    "# Also you should transform target labels in the second column from 'B' and 'M' to 1 and -1."
   ]
  },
  {
   "cell_type": "code",
   "execution_count": 5,
   "metadata": {},
   "outputs": [
    {
     "data": {
      "text/html": [
       "<div>\n",
       "<style scoped>\n",
       "    .dataframe tbody tr th:only-of-type {\n",
       "        vertical-align: middle;\n",
       "    }\n",
       "\n",
       "    .dataframe tbody tr th {\n",
       "        vertical-align: top;\n",
       "    }\n",
       "\n",
       "    .dataframe thead th {\n",
       "        text-align: right;\n",
       "    }\n",
       "</style>\n",
       "<table border=\"1\" class=\"dataframe\">\n",
       "  <thead>\n",
       "    <tr style=\"text-align: right;\">\n",
       "      <th></th>\n",
       "      <th>id</th>\n",
       "      <th>diagnosis</th>\n",
       "      <th>radius_mean</th>\n",
       "      <th>texture_mean</th>\n",
       "      <th>perimeter_mean</th>\n",
       "      <th>area_mean</th>\n",
       "      <th>smoothness_mean</th>\n",
       "      <th>compactness_mean</th>\n",
       "      <th>concavity_mean</th>\n",
       "      <th>concave points_mean</th>\n",
       "      <th>...</th>\n",
       "      <th>texture_worst</th>\n",
       "      <th>perimeter_worst</th>\n",
       "      <th>area_worst</th>\n",
       "      <th>smoothness_worst</th>\n",
       "      <th>compactness_worst</th>\n",
       "      <th>concavity_worst</th>\n",
       "      <th>concave points_worst</th>\n",
       "      <th>symmetry_worst</th>\n",
       "      <th>fractal_dimension_worst</th>\n",
       "      <th>Unnamed: 32</th>\n",
       "    </tr>\n",
       "  </thead>\n",
       "  <tbody>\n",
       "    <tr>\n",
       "      <th>0</th>\n",
       "      <td>842302</td>\n",
       "      <td>M</td>\n",
       "      <td>17.99</td>\n",
       "      <td>10.38</td>\n",
       "      <td>122.80</td>\n",
       "      <td>1001.0</td>\n",
       "      <td>0.11840</td>\n",
       "      <td>0.27760</td>\n",
       "      <td>0.3001</td>\n",
       "      <td>0.14710</td>\n",
       "      <td>...</td>\n",
       "      <td>17.33</td>\n",
       "      <td>184.60</td>\n",
       "      <td>2019.0</td>\n",
       "      <td>0.1622</td>\n",
       "      <td>0.6656</td>\n",
       "      <td>0.7119</td>\n",
       "      <td>0.2654</td>\n",
       "      <td>0.4601</td>\n",
       "      <td>0.11890</td>\n",
       "      <td>NaN</td>\n",
       "    </tr>\n",
       "    <tr>\n",
       "      <th>1</th>\n",
       "      <td>842517</td>\n",
       "      <td>M</td>\n",
       "      <td>20.57</td>\n",
       "      <td>17.77</td>\n",
       "      <td>132.90</td>\n",
       "      <td>1326.0</td>\n",
       "      <td>0.08474</td>\n",
       "      <td>0.07864</td>\n",
       "      <td>0.0869</td>\n",
       "      <td>0.07017</td>\n",
       "      <td>...</td>\n",
       "      <td>23.41</td>\n",
       "      <td>158.80</td>\n",
       "      <td>1956.0</td>\n",
       "      <td>0.1238</td>\n",
       "      <td>0.1866</td>\n",
       "      <td>0.2416</td>\n",
       "      <td>0.1860</td>\n",
       "      <td>0.2750</td>\n",
       "      <td>0.08902</td>\n",
       "      <td>NaN</td>\n",
       "    </tr>\n",
       "    <tr>\n",
       "      <th>2</th>\n",
       "      <td>84300903</td>\n",
       "      <td>M</td>\n",
       "      <td>19.69</td>\n",
       "      <td>21.25</td>\n",
       "      <td>130.00</td>\n",
       "      <td>1203.0</td>\n",
       "      <td>0.10960</td>\n",
       "      <td>0.15990</td>\n",
       "      <td>0.1974</td>\n",
       "      <td>0.12790</td>\n",
       "      <td>...</td>\n",
       "      <td>25.53</td>\n",
       "      <td>152.50</td>\n",
       "      <td>1709.0</td>\n",
       "      <td>0.1444</td>\n",
       "      <td>0.4245</td>\n",
       "      <td>0.4504</td>\n",
       "      <td>0.2430</td>\n",
       "      <td>0.3613</td>\n",
       "      <td>0.08758</td>\n",
       "      <td>NaN</td>\n",
       "    </tr>\n",
       "    <tr>\n",
       "      <th>3</th>\n",
       "      <td>84348301</td>\n",
       "      <td>M</td>\n",
       "      <td>11.42</td>\n",
       "      <td>20.38</td>\n",
       "      <td>77.58</td>\n",
       "      <td>386.1</td>\n",
       "      <td>0.14250</td>\n",
       "      <td>0.28390</td>\n",
       "      <td>0.2414</td>\n",
       "      <td>0.10520</td>\n",
       "      <td>...</td>\n",
       "      <td>26.50</td>\n",
       "      <td>98.87</td>\n",
       "      <td>567.7</td>\n",
       "      <td>0.2098</td>\n",
       "      <td>0.8663</td>\n",
       "      <td>0.6869</td>\n",
       "      <td>0.2575</td>\n",
       "      <td>0.6638</td>\n",
       "      <td>0.17300</td>\n",
       "      <td>NaN</td>\n",
       "    </tr>\n",
       "    <tr>\n",
       "      <th>4</th>\n",
       "      <td>84358402</td>\n",
       "      <td>M</td>\n",
       "      <td>20.29</td>\n",
       "      <td>14.34</td>\n",
       "      <td>135.10</td>\n",
       "      <td>1297.0</td>\n",
       "      <td>0.10030</td>\n",
       "      <td>0.13280</td>\n",
       "      <td>0.1980</td>\n",
       "      <td>0.10430</td>\n",
       "      <td>...</td>\n",
       "      <td>16.67</td>\n",
       "      <td>152.20</td>\n",
       "      <td>1575.0</td>\n",
       "      <td>0.1374</td>\n",
       "      <td>0.2050</td>\n",
       "      <td>0.4000</td>\n",
       "      <td>0.1625</td>\n",
       "      <td>0.2364</td>\n",
       "      <td>0.07678</td>\n",
       "      <td>NaN</td>\n",
       "    </tr>\n",
       "  </tbody>\n",
       "</table>\n",
       "<p>5 rows × 33 columns</p>\n",
       "</div>"
      ],
      "text/plain": [
       "         id diagnosis  radius_mean  texture_mean  perimeter_mean  area_mean  \\\n",
       "0    842302         M        17.99         10.38          122.80     1001.0   \n",
       "1    842517         M        20.57         17.77          132.90     1326.0   \n",
       "2  84300903         M        19.69         21.25          130.00     1203.0   \n",
       "3  84348301         M        11.42         20.38           77.58      386.1   \n",
       "4  84358402         M        20.29         14.34          135.10     1297.0   \n",
       "\n",
       "   smoothness_mean  compactness_mean  concavity_mean  concave points_mean  \\\n",
       "0          0.11840           0.27760          0.3001              0.14710   \n",
       "1          0.08474           0.07864          0.0869              0.07017   \n",
       "2          0.10960           0.15990          0.1974              0.12790   \n",
       "3          0.14250           0.28390          0.2414              0.10520   \n",
       "4          0.10030           0.13280          0.1980              0.10430   \n",
       "\n",
       "   ...  texture_worst  perimeter_worst  area_worst  smoothness_worst  \\\n",
       "0  ...          17.33           184.60      2019.0            0.1622   \n",
       "1  ...          23.41           158.80      1956.0            0.1238   \n",
       "2  ...          25.53           152.50      1709.0            0.1444   \n",
       "3  ...          26.50            98.87       567.7            0.2098   \n",
       "4  ...          16.67           152.20      1575.0            0.1374   \n",
       "\n",
       "   compactness_worst  concavity_worst  concave points_worst  symmetry_worst  \\\n",
       "0             0.6656           0.7119                0.2654          0.4601   \n",
       "1             0.1866           0.2416                0.1860          0.2750   \n",
       "2             0.4245           0.4504                0.2430          0.3613   \n",
       "3             0.8663           0.6869                0.2575          0.6638   \n",
       "4             0.2050           0.4000                0.1625          0.2364   \n",
       "\n",
       "   fractal_dimension_worst  Unnamed: 32  \n",
       "0                  0.11890          NaN  \n",
       "1                  0.08902          NaN  \n",
       "2                  0.08758          NaN  \n",
       "3                  0.17300          NaN  \n",
       "4                  0.07678          NaN  \n",
       "\n",
       "[5 rows x 33 columns]"
      ]
     },
     "execution_count": 5,
     "metadata": {},
     "output_type": "execute_result"
    }
   ],
   "source": [
    "# Show the dataframe to determine which columns need to be dropped\n",
    "df.head()"
   ]
  },
  {
   "cell_type": "code",
   "execution_count": 6,
   "metadata": {},
   "outputs": [],
   "source": [
    "# Drop id, diagnosis, and last column to be features data X\n",
    "X = np.array(df.iloc[:, 2:-1])"
   ]
  },
  {
   "cell_type": "code",
   "execution_count": 7,
   "metadata": {},
   "outputs": [],
   "source": [
    "# Extract diagnosis column to be target data y and replace B to 1 and M to -1\n",
    "y = np.array(df[['diagnosis']].replace(['B', 'M'], [1, -1]))"
   ]
  },
  {
   "cell_type": "markdown",
   "metadata": {},
   "source": [
    "## 1.3. Partition to training and testing sets"
   ]
  },
  {
   "cell_type": "code",
   "execution_count": 8,
   "metadata": {},
   "outputs": [],
   "source": [
    "from sklearn.model_selection import train_test_split"
   ]
  },
  {
   "cell_type": "code",
   "execution_count": 9,
   "metadata": {},
   "outputs": [],
   "source": [
    "# You can partition using 80% training data and 20% testing data. It is a commonly used ratio in machinel learning.\n",
    "X_train, X_test, y_train, y_test = train_test_split(X, y, test_size = 0.20)"
   ]
  },
  {
   "cell_type": "markdown",
   "metadata": {},
   "source": [
    "## 1.4. Feature scaling"
   ]
  },
  {
   "cell_type": "markdown",
   "metadata": {},
   "source": [
    "Use the standardization to trainsform both training and test features"
   ]
  },
  {
   "cell_type": "code",
   "execution_count": 9,
   "metadata": {},
   "outputs": [
    {
     "name": "stdout",
     "output_type": "stream",
     "text": [
      "test mean = \n",
      "[-0.00024445  0.14826429 -0.00353282 -0.01481521 -0.0262478  -0.05810511\n",
      " -0.03074141 -0.01924486 -0.01651419  0.00676093  0.00931579  0.08288839\n",
      " -0.00169902 -0.02343591  0.18908379  0.01768579  0.00452528  0.05494459\n",
      " -0.07110685  0.08792898 -0.01476948  0.12594987 -0.01357586 -0.03847506\n",
      "  0.00105513 -0.0256163  -0.02536776  0.00747598 -0.04023539  0.0636219 ]\n",
      "test std = \n",
      "[0.9487605  0.94746264 0.96063229 0.93167653 1.02957082 1.01784876\n",
      " 1.05872285 1.07542652 0.96119461 0.8645923  0.88477473 1.00761441\n",
      " 0.84830266 0.75619376 1.43717426 1.04804442 0.87727085 0.98220824\n",
      " 0.92870726 0.93046456 0.90106296 0.99649737 0.92431361 0.84418793\n",
      " 1.05408113 0.99814382 0.99688298 1.00308213 0.95284328 1.02247619]\n"
     ]
    }
   ],
   "source": [
    "# Standardization\n",
    "import numpy as np\n",
    "\n",
    "# calculate mu and sig using the training set\n",
    "d = X_train.shape[1]\n",
    "mu = np.mean(X_train, axis=0)#.reshape(1, d)\n",
    "sig = np.std(X_train, axis=0)#.reshape(1, d)\n",
    "\n",
    "# transform the training features\n",
    "X_train = (X_train - mu) / (sig + 1E-6)\n",
    "\n",
    "# transform the test features\n",
    "X_test = (X_test - mu) / (sig + 1E-6)\n",
    "\n",
    "print('test mean = ')\n",
    "print(np.mean(X_test, axis=0))\n",
    "\n",
    "print('test std = ')\n",
    "print(np.std(X_test, axis=0))"
   ]
  },
  {
   "cell_type": "code",
   "execution_count": 10,
   "metadata": {},
   "outputs": [],
   "source": [
    "# Concatenate number 1 to first column\n",
    "A = np.c_[np.ones((X_train.shape[0], 1)), X_train]"
   ]
  },
  {
   "cell_type": "markdown",
   "metadata": {},
   "source": [
    "# 2.  Logistic Regression Model\n",
    "\n",
    "The objective function is $Q (w; X, y) = \\frac{1}{n} \\sum_{i=1}^n \\log \\Big( 1 + \\exp \\big( - y_i x_i^T w \\big) \\Big) + \\frac{\\lambda}{2} \\| w \\|_2^2 $.\n",
    "\n",
    "When $\\lambda = 0$, the model is a regular logistric regression and when $\\lambda > 0$, it essentially becomes a regularized logistric regression."
   ]
  },
  {
   "cell_type": "code",
   "execution_count": 11,
   "metadata": {},
   "outputs": [],
   "source": [
    "# Calculate the objective function value, or loss\n",
    "# Inputs:\n",
    "#     w: weight: d-by-1 matrix 30 by 1\n",
    "#     x: data: n-by-d matrix 455 by 30\n",
    "#     y: label: n-by-1 matrix 455 by 1\n",
    "#     lam: regularization parameter: scalar\n",
    "# Return:\n",
    "#     objective function value, or loss (scalar)\n",
    "def objective(w, x, y, lam):\n",
    "    n = x.shape[0]\n",
    "    obj = 0\n",
    "    \n",
    "    for i in range(n):\n",
    "        obj += np.log(1 + np.e ** (-y[i] * x[i].T @ w))\n",
    "    \n",
    "    return (obj / n) + (lam * (w.T @ w) / 2)"
   ]
  },
  {
   "cell_type": "code",
   "execution_count": 1,
   "metadata": {},
   "outputs": [],
   "source": [
    "def objective2(w, x, y, lam):\n",
    "    n = x.shape[0]\n",
    "    Z = (1/n) * np.sum(np.log(1+np.exp(-y * x.dot(w)))) + (lam/2) * np.sum(w[1:]**2)\n",
    "    return Z"
   ]
  },
  {
   "cell_type": "code",
   "execution_count": null,
   "metadata": {},
   "outputs": [],
   "source": [
    "weight = np.zeros((30,))\n"
   ]
  },
  {
   "cell_type": "markdown",
   "metadata": {},
   "source": [
    "# 3. Numerical optimization"
   ]
  },
  {
   "cell_type": "markdown",
   "metadata": {},
   "source": [
    "## 3.1. Gradient descent\n"
   ]
  },
  {
   "cell_type": "markdown",
   "metadata": {},
   "source": [
    "The gradient at $w$ for regularized logistic regression is  $g = - \\frac{1}{n} \\sum_{i=1}^n \\frac{y_i x_i }{1 + \\exp ( y_i x_i^T w)} + \\lambda w$"
   ]
  },
  {
   "cell_type": "code",
   "execution_count": 12,
   "metadata": {},
   "outputs": [],
   "source": [
    "# Calculate the gradient\n",
    "# Inputs:\n",
    "#     w: weight: d-by-1 matrix\n",
    "#     x: data: n-by-d matrix\n",
    "#     y: label: n-by-1 matrix\n",
    "#     lam: regularization parameter: scalar\n",
    "# Return:\n",
    "#     g: gradient: d-by-1 matrix\n",
    "\n",
    "def gradient(w, x, y, lam):\n",
    "    n = x.shape[0]\n",
    "    grad = 0\n",
    "    \n",
    "    for i in range(n):\n",
    "        grad += (y[i] * x[i]) / (1 + np.e ** (y[i] * x[i].T @ w))\n",
    "    \n",
    "    return (grad / -n) + (lam * w)"
   ]
  },
  {
   "cell_type": "code",
   "execution_count": 13,
   "metadata": {},
   "outputs": [],
   "source": [
    "# Gradient descent for solving logistic regression\n",
    "# You will need to do iterative process (loops) to obtain optimal weights in this function\n",
    "\n",
    "# Inputs:\n",
    "#     x: data: n-by-d matrix\n",
    "#     y: label: n-by-1 matrix\n",
    "#     lam: scalar, the regularization parameter\n",
    "#     learning_rate: scalar\n",
    "#     w: weights: d-by-1 matrix, initialization of w\n",
    "#     max_epoch: integer, the maximal epochs\n",
    "# Return:\n",
    "#     w: weights: d-by-1 matrix, the solution\n",
    "#     objvals: a record of each epoch's objective value\n",
    "\n",
    "def gradient_descent(x, y, lam, learning_rate, w, max_epoch=100):\n",
    "    obj_history = np.zeros((max_epoch, 1))\n",
    "    \n",
    "    for iter in range(max_epoch):\n",
    "        w -= learning_rate * gradient(w, x, y, lam)\n",
    "        obj_history[iter] = objective(w, x, y, lam)\n",
    "        \n",
    "    return w, obj_history"
   ]
  },
  {
   "cell_type": "markdown",
   "metadata": {},
   "source": [
    "Use gradient_descent function to obtain your optimal weights and a list of objective values over each epoch."
   ]
  },
  {
   "cell_type": "code",
   "execution_count": 14,
   "metadata": {},
   "outputs": [],
   "source": [
    "# Train logistic regression\n",
    "# You should get the optimal weights and a list of objective values by using gradient_descent function.\n",
    "weight = np.zeros((31,))\n",
    "w_gd_lr, obj_gd_lr= gradient_descent(A, y_train, 0, 0.03, weight, max_epoch=100)"
   ]
  },
  {
   "cell_type": "code",
   "execution_count": 15,
   "metadata": {},
   "outputs": [],
   "source": [
    "# Train regularized logistric regression\n",
    "# You should get the optimal weights and a list of objective values by using gradient_descent function.\n",
    "weight = np.ones((31,))\n",
    "w_gd_rlr, obj_gd_rlr = gradient_descent(A, y_train, 1, 0.03, weight, max_epoch=100)"
   ]
  },
  {
   "cell_type": "markdown",
   "metadata": {},
   "source": [
    "## 3.2. Stochastic gradient descent (SGD)\n",
    "\n",
    "Define new objective function $Q_i (w) = \\log \\Big( 1 + \\exp \\big( - y_i x_i^T w \\big) \\Big) + \\frac{\\lambda}{2} \\| w \\|_2^2 $. \n",
    "\n",
    "The stochastic gradient at $w$ is $g_i = \\frac{\\partial Q_i }{ \\partial w} = -\\frac{y_i x_i }{1 + \\exp ( y_i x_i^T w)} + \\lambda w$.\n",
    "\n",
    "You may need to implement a new function to calculate the new objective function and gradients."
   ]
  },
  {
   "cell_type": "code",
   "execution_count": 16,
   "metadata": {},
   "outputs": [],
   "source": [
    "# Calculate the objective Q_i and the gradient of Q_i\n",
    "# Inputs:\n",
    "#     w: weights: d-by-1 matrix\n",
    "#     xi: data: 1-by-d matrix\n",
    "#     yi: label: scalar\n",
    "#     lam: scalar, the regularization parameter\n",
    "# Return:\n",
    "#     obj: scalar, the objective Q_i\n",
    "#     g: d-by-1 matrix, gradient of Q_i\n",
    "\n",
    "def stochastic_objective_gradient(w, xi, yi, lam):\n",
    "    obj = np.log(1 + np.e ** (-yi[0] * xi[0].T @ w)) + (lam * (w.T @ w) / 2)\n",
    "\n",
    "    grad = (-yi[0] * xi[0]) / (1 + np.e ** (yi[0] * xi[0].T @ w)) + (lam * w)\n",
    "   \n",
    "    return grad, obj"
   ]
  },
  {
   "cell_type": "markdown",
   "metadata": {},
   "source": [
    "Hints:\n",
    "1. In every epoch, randomly permute the $n$ samples.\n",
    "2. Each epoch has $n$ iterations. In every iteration, use 1 sample, and compute the gradient and objective using the ``stochastic_objective_gradient`` function. In the next iteration, use the next sample, and so on."
   ]
  },
  {
   "cell_type": "code",
   "execution_count": 17,
   "metadata": {},
   "outputs": [],
   "source": [
    "# SGD for solving logistic regression\n",
    "# You will need to do iterative process (loops) to obtain optimal weights in this function\n",
    "\n",
    "# Inputs:\n",
    "#     x: data: n-by-d matrix\n",
    "#     y: label: n-by-1 matrix\n",
    "#     lam: scalar, the regularization parameter\n",
    "#     learning_rate: scalar\n",
    "#     w: weights: d-by-1 matrix, initialization of w\n",
    "#     max_epoch: integer, the maximal epochs\n",
    "# Return:\n",
    "#     \n",
    "#     w: weights: d-by-1 matrix, the solution\n",
    "#     objvals: a record of each epoch's objective value\n",
    "#     Record one objective value per epoch (not per iteration)\n",
    "def sgd(x, y, lam, learning_rate, w, max_epoch=100):\n",
    "    data = np.c_[y, x]\n",
    "    n = data.shape[0]\n",
    "    batch_size = 1\n",
    "    obj_history = np.zeros((max_epoch, 1))\n",
    "    \n",
    "    for iter in range(max_epoch):\n",
    "        np.random.shuffle(data)\n",
    "        obj = 0\n",
    "        for j in range(0, n, batch_size):\n",
    "            xi = data[j:j+batch_size, 1:]\n",
    "            yi = data[j:j+batch_size, 0]\n",
    "            grad, obj_i = stochastic_objective_gradient(w, xi, yi, lam)\n",
    "            obj += obj_i\n",
    "            w -= learning_rate * grad\n",
    "        obj_history[iter] = obj\n",
    "        \n",
    "    return w, obj_history"
   ]
  },
  {
   "cell_type": "markdown",
   "metadata": {},
   "source": [
    "Use sgd function to obtain your optimal weights and a list of objective values over each epoch."
   ]
  },
  {
   "cell_type": "code",
   "execution_count": 18,
   "metadata": {},
   "outputs": [],
   "source": [
    "# Train logistic regression\n",
    "# You should get the optimal weights and a list of objective values by using gradient_descent function.\n",
    "weight = np.ones((31,))\n",
    "w_sgd_lr, obj_sgd_lr = sgd(A, y_train, 0, 0.03, weight, max_epoch=100)"
   ]
  },
  {
   "cell_type": "code",
   "execution_count": 19,
   "metadata": {},
   "outputs": [],
   "source": [
    "# Train regularized logistric regression\n",
    "# You should get the optimal weights and a list of objective values by using gradient_descent function.\n",
    "weight = np.ones((31,))\n",
    "w_sgd_rlr, obj_sgd_rlr = sgd(A, y_train, 1, 0.03, weight, max_epoch=100)"
   ]
  },
  {
   "cell_type": "markdown",
   "metadata": {},
   "source": [
    "## 3.3 Mini-Batch Gradient Descent (MBGD)"
   ]
  },
  {
   "cell_type": "markdown",
   "metadata": {},
   "source": [
    "Define $Q_I (w) = \\frac{1}{b} \\sum_{i \\in I} \\log \\Big( 1 + \\exp \\big( - y_i x_i^T w \\big) \\Big) + \\frac{\\lambda}{2} \\| w \\|_2^2 $, where $I$ is a set containing $b$ indices randomly drawn from $\\{ 1, \\cdots , n \\}$ without replacement.\n",
    "\n",
    "The stochastic gradient at $w$ is $g_I = \\frac{\\partial Q_I }{ \\partial w} = \\frac{1}{b} \\sum_{i \\in I} \\frac{- y_i x_i }{1 + \\exp ( y_i x_i^T w)} + \\lambda w$.\n",
    "\n",
    "You may need to implement a new function to calculate the new objective function and gradients."
   ]
  },
  {
   "cell_type": "code",
   "execution_count": 20,
   "metadata": {},
   "outputs": [],
   "source": [
    "# Calculate the objective Q_I and the gradient of Q_I\n",
    "# Inputs:\n",
    "#     w: weights: d-by-1 matrix\n",
    "#     xi: data: b-by-d matrix\n",
    "#     yi: label: scalar\n",
    "#     lam: scalar, the regularization parameter\n",
    "# Return:\n",
    "#     obj: scalar, the objective Q_i\n",
    "#     g: d-by-1 matrix, gradient of Q_i\n",
    "\n",
    "def mb_objective_gradient(w, xi, yi, lam):\n",
    "    b = xi.shape[0]\n",
    "    \n",
    "    obj = 0\n",
    "    for j in range(b):\n",
    "        obj += np.log(1 + np.e ** (-yi[j] * xi[j].T @ w))\n",
    "    obj = obj / b + (lam * (w.T @ w) / 2)\n",
    "\n",
    "    grad = 0\n",
    "    for k in range(b):\n",
    "        grad += (-yi[k] * xi[k]) / (1 + np.e ** (yi[k] * xi[k].T @ w))\n",
    "    grad = (grad / b) + (lam * w)\n",
    "   \n",
    "    return grad, obj"
   ]
  },
  {
   "cell_type": "markdown",
   "metadata": {},
   "source": [
    "Hints:\n",
    "1. In every epoch, randomly permute the $n$ samples (just like SGD).\n",
    "2. Each epoch has $\\frac{n}{b}$ iterations. In every iteration, use $b$ samples, and compute the gradient and objective using the ``mb_objective_gradient`` function. In the next iteration, use the next $b$ samples, and so on."
   ]
  },
  {
   "cell_type": "code",
   "execution_count": 21,
   "metadata": {},
   "outputs": [],
   "source": [
    "# MBGD for solving logistic regression\n",
    "# You will need to do iterative process (loops) to obtain optimal weights in this function\n",
    "\n",
    "# Inputs:\n",
    "#     x: data: n-by-d matrix\n",
    "#     y: label: n-by-1 matrix\n",
    "#     lam: scalar, the regularization parameter\n",
    "#     learning_rate: scalar\n",
    "#     w: weights: d-by-1 matrix, initialization of w\n",
    "#     max_epoch: integer, the maximal epochs\n",
    "# Return:\n",
    "#     w: weights: d-by-1 matrix, the solution\n",
    "#     objvals: a record of each epoch's objective value\n",
    "#     Record one objective value per epoch (not per iteration)\n",
    "\n",
    "def mbgd(x, y, lam, learning_rate, w, max_epoch=100):\n",
    "    data = np.c_[y, x]\n",
    "    n = data.shape[0]\n",
    "    batch_size = 35\n",
    "    obj_history = np.zeros((max_epoch, 1))\n",
    "    \n",
    "    for iter in range(max_epoch):\n",
    "        np.random.shuffle(data)\n",
    "        obj = 0\n",
    "        for j in range(0, n, batch_size):\n",
    "            xi = data[j:j+batch_size, 1:]\n",
    "            yi = data[j:j+batch_size, 0]\n",
    "            grad, obj_i = mb_objective_gradient(w, xi, yi, lam)\n",
    "            obj += obj_i\n",
    "            w -= learning_rate * grad\n",
    "        obj_history[iter] = obj\n",
    "        \n",
    "    return w, obj_history"
   ]
  },
  {
   "cell_type": "markdown",
   "metadata": {},
   "source": [
    "Use mbgd function to obtain your optimal weights and a list of objective values over each epoch."
   ]
  },
  {
   "cell_type": "code",
   "execution_count": 22,
   "metadata": {},
   "outputs": [],
   "source": [
    "# Train logistic regression\n",
    "# You should get the optimal weights and a list of objective values by using gradient_descent function.\n",
    "weight = np.ones((31,))\n",
    "w_mbgd_lr, obj_mbgd_lr = mbgd(A, y_train, 0, 0.03, weight, max_epoch=100)"
   ]
  },
  {
   "cell_type": "code",
   "execution_count": 23,
   "metadata": {},
   "outputs": [],
   "source": [
    "# Train regularized logistric regression\n",
    "# You should get the optimal weights and a list of objective values by using gradient_descent function.\n",
    "weight = np.ones((31,))\n",
    "w_mbgd_rlr, obj_mbgd_rlr = mbgd(A, y_train, 1, 0.03, weight, max_epoch=100)"
   ]
  },
  {
   "cell_type": "markdown",
   "metadata": {},
   "source": [
    "# 4. Compare GD, SGD, MBGD\n",
    "\n",
    "### Plot objective function values against epochs."
   ]
  },
  {
   "cell_type": "code",
   "execution_count": 24,
   "metadata": {},
   "outputs": [],
   "source": [
    "import matplotlib.pyplot as plt\n",
    "%matplotlib inline"
   ]
  },
  {
   "cell_type": "markdown",
   "metadata": {},
   "source": [
    "Non-regularized"
   ]
  },
  {
   "cell_type": "code",
   "execution_count": 25,
   "metadata": {},
   "outputs": [
    {
     "data": {
      "image/png": "[encoded data removed]",
      "text/plain": [
       "<Figure size 432x288 with 1 Axes>"
      ]
     },
     "metadata": {
      "needs_background": "light"
     },
     "output_type": "display_data"
    }
   ],
   "source": [
    "epochs = 100\n",
    "plt.title('GD Objective vs Epochs (Non-regularized)')\n",
    "plt.ylabel('Objective', rotation=True)\n",
    "plt.xlabel('Epochs')\n",
    "plt.plot(range(epochs), obj_gd_rlr, 'r.', label='GD')\n",
    "plt.legend()\n",
    "plt.show()"
   ]
  },
  {
   "cell_type": "code",
   "execution_count": 26,
   "metadata": {},
   "outputs": [
    {
     "data": {
      "image/png": "[encoded data removed]",
      "text/plain": [
       "<Figure size 432x288 with 1 Axes>"
      ]
     },
     "metadata": {
      "needs_background": "light"
     },
     "output_type": "display_data"
    }
   ],
   "source": [
    "epochs = 100\n",
    "plt.title('SGD Objective vs Epochs (Non-regularized)')\n",
    "plt.ylabel('Objective', rotation=True)\n",
    "plt.xlabel('Epochs')\n",
    "plt.plot(range(epochs), obj_sgd_rlr, 'y.', label='SGD')\n",
    "plt.legend()\n",
    "plt.show()"
   ]
  },
  {
   "cell_type": "code",
   "execution_count": 27,
   "metadata": {},
   "outputs": [
    {
     "data": {
      "image/png": "[encoded data removed]",
      "text/plain": [
       "<Figure size 432x288 with 1 Axes>"
      ]
     },
     "metadata": {
      "needs_background": "light"
     },
     "output_type": "display_data"
    }
   ],
   "source": [
    "epochs = 100\n",
    "plt.title('MBGD Objective vs Epochs (Non-regularized)')\n",
    "plt.ylabel('Objective', rotation=True)\n",
    "plt.xlabel('Epochs')\n",
    "plt.plot(range(epochs), obj_mbgd_rlr, 'g.', label='MBGD')\n",
    "plt.legend()\n",
    "plt.show()"
   ]
  },
  {
   "cell_type": "markdown",
   "metadata": {},
   "source": [
    "Regularized"
   ]
  },
  {
   "cell_type": "code",
   "execution_count": 58,
   "metadata": {},
   "outputs": [
    {
     "data": {
      "image/png": "[encoded data removed]",
      "text/plain": [
       "<Figure size 432x288 with 1 Axes>"
      ]
     },
     "metadata": {
      "needs_background": "light"
     },
     "output_type": "display_data"
    }
   ],
   "source": [
    "epochs = 100\n",
    "plt.title('GD Objective vs Epochs (Regularized)')\n",
    "plt.ylabel('Objective', rotation=True)\n",
    "plt.xlabel('Epochs')\n",
    "plt.plot(range(epochs), obj_gd_lr, 'r.', label='GD')\n",
    "plt.legend()\n",
    "plt.show()"
   ]
  },
  {
   "cell_type": "code",
   "execution_count": 59,
   "metadata": {},
   "outputs": [
    {
     "data": {
      "image/png": "[encoded data removed]",
      "text/plain": [
       "<Figure size 432x288 with 1 Axes>"
      ]
     },
     "metadata": {
      "needs_background": "light"
     },
     "output_type": "display_data"
    }
   ],
   "source": [
    "epochs = 100\n",
    "plt.title('SGD Objective vs Epochs (Regularized)')\n",
    "plt.ylabel('Objective', rotation=True)\n",
    "plt.xlabel('Epochs')\n",
    "plt.plot(range(epochs), obj_sgd_lr, 'y.', label='SGD')\n",
    "plt.legend()\n",
    "plt.show()"
   ]
  },
  {
   "cell_type": "code",
   "execution_count": 60,
   "metadata": {},
   "outputs": [
    {
     "data": {
      "image/png": "[encoded data removed]",
      "text/plain": [
       "<Figure size 432x288 with 1 Axes>"
      ]
     },
     "metadata": {
      "needs_background": "light"
     },
     "output_type": "display_data"
    }
   ],
   "source": [
    "epochs = 100\n",
    "plt.title('MBGD Objective vs Epochs (Regularized)')\n",
    "plt.ylabel('Objective', rotation=True)\n",
    "plt.xlabel('Epochs')\n",
    "plt.plot(range(epochs), obj_mbgd_lr, 'g.', label='MBGD')\n",
    "plt.legend()\n",
    "plt.show()"
   ]
  },
  {
   "cell_type": "markdown",
   "metadata": {},
   "source": [
    "# 5. Prediction\n",
    "### Compare the training and testing accuracy for logistic regression and regularized logistic regression."
   ]
  },
  {
   "cell_type": "code",
   "execution_count": 31,
   "metadata": {},
   "outputs": [],
   "source": [
    "from sklearn.metrics import accuracy_score"
   ]
  },
  {
   "cell_type": "code",
   "execution_count": 32,
   "metadata": {},
   "outputs": [],
   "source": [
    "# Concatenate number 1 to first column\n",
    "B = np.c_[np.ones((X_test.shape[0], 1)), X_test]"
   ]
  },
  {
   "cell_type": "code",
   "execution_count": 33,
   "metadata": {},
   "outputs": [],
   "source": [
    "# Predict class label\n",
    "# Inputs:\n",
    "#     w: weights: d-by-1 matrix\n",
    "#     X: data: m-by-d matrix\n",
    "# Return:\n",
    "#     f: m-by-1 matrix, the predictions\n",
    "def predict(w, X):\n",
    "    pred = X @ w\n",
    "    \n",
    "    for i in range(pred.shape[0]):\n",
    "        if pred[i] >= 0:\n",
    "            pred[i] = 1\n",
    "        else:\n",
    "            pred[i] = -1\n",
    "    \n",
    "    return pred"
   ]
  },
  {
   "cell_type": "code",
   "execution_count": 34,
   "metadata": {},
   "outputs": [
    {
     "name": "stdout",
     "output_type": "stream",
     "text": [
      "Accuracy of train GD: 0.967032967032967\n",
      "Accuracy of train SGD: 0.989010989010989\n",
      "Accuracy of train MBGD: 0.9824175824175824\n",
      "Accuracy of train regularized GD: 0.9538461538461539\n",
      "Accuracy of train regularized SGD: 0.9494505494505494\n",
      "Accuracy of train regularized MBGD: 0.9560439560439561\n"
     ]
    }
   ],
   "source": [
    "# evaluate training error of logistric regression and regularized version\n",
    "pred_train_gd_lr = predict(w_gd_lr, A)\n",
    "pred_train_gd_rlr = predict(w_gd_rlr, A)\n",
    "\n",
    "pred_train_sgd_lr = predict(w_sgd_lr, A)\n",
    "pred_train_sgd_rlr = predict(w_sgd_rlr, A)\n",
    "\n",
    "pred_train_mbgd_lr = predict(w_mbgd_lr, A)\n",
    "pred_train_mbgd_rlr = predict(w_mbgd_rlr, A)\n",
    "\n",
    "print('Accuracy of train GD:', accuracy_score(y_train, pred_train_gd_lr))\n",
    "print('Accuracy of train SGD:', accuracy_score(y_train, pred_train_sgd_lr))\n",
    "print('Accuracy of train MBGD:', accuracy_score(y_train, pred_train_mbgd_lr))\n",
    "\n",
    "print('Accuracy of train regularized GD:', accuracy_score(y_train, pred_train_gd_rlr))\n",
    "print('Accuracy of train regularized SGD:', accuracy_score(y_train, pred_train_sgd_rlr))\n",
    "print('Accuracy of train regularized MBGD:', accuracy_score(y_train, pred_train_mbgd_rlr))"
   ]
  },
  {
   "cell_type": "code",
   "execution_count": 35,
   "metadata": {},
   "outputs": [
    {
     "name": "stdout",
     "output_type": "stream",
     "text": [
      "Accuracy of test GD: 0.9649122807017544\n",
      "Accuracy of test SGD: 0.9736842105263158\n",
      "Accuracy of test MBGD: 0.9824561403508771\n",
      "Accuracy of test regularized GD: 0.9473684210526315\n",
      "Accuracy of test regularized SGD: 0.9385964912280702\n",
      "Accuracy of test regularized MBGD: 0.956140350877193\n"
     ]
    }
   ],
   "source": [
    "# evaluate testing error of logistric regression and regularized version\n",
    "pred_test_gd_lr = predict(w_gd_lr, B)\n",
    "pred_test_gd_rlr = predict(w_gd_rlr, B)\n",
    "\n",
    "pred_test_sgd_lr = predict(w_sgd_lr, B)\n",
    "pred_test_sgd_rlr = predict(w_sgd_rlr, B)\n",
    "\n",
    "pred_test_mbgd_lr = predict(w_mbgd_lr, B)\n",
    "pred_test_mbgd_rlr = predict(w_mbgd_rlr, B)\n",
    "\n",
    "print('Accuracy of test GD:', accuracy_score(y_test, pred_test_gd_lr))\n",
    "print('Accuracy of test SGD:', accuracy_score(y_test, pred_test_sgd_lr))\n",
    "print('Accuracy of test MBGD:', accuracy_score(y_test, pred_test_mbgd_lr))\n",
    "\n",
    "print('Accuracy of test regularized GD:', accuracy_score(y_test, pred_test_gd_rlr))\n",
    "print('Accuracy of test regularized SGD:', accuracy_score(y_test, pred_test_sgd_rlr))\n",
    "print('Accuracy of test regularized MBGD:', accuracy_score(y_test, pred_test_mbgd_rlr))"
   ]
  },
  {
   "cell_type": "markdown",
   "metadata": {},
   "source": [
    "# 6. Parameters tuning"
   ]
  },
  {
   "cell_type": "markdown",
   "metadata": {},
   "source": [
    "### In this section, you may try different combinations of parameters (regularization value, learning rate, etc) to see their effects on the model. (Open ended question)"
   ]
  },
  {
   "cell_type": "markdown",
   "metadata": {},
   "source": [
    "### GD"
   ]
  },
  {
   "cell_type": "markdown",
   "metadata": {},
   "source": [
    "Tuning lambda and set learning rate to be 0.03."
   ]
  },
  {
   "cell_type": "code",
   "execution_count": 36,
   "metadata": {},
   "outputs": [],
   "source": [
    "domain = np.linspace(0, 10, 50)\n",
    "n = len(domain)\n",
    "\n",
    "GD_lambda_history_train = np.zeros((n, 1))\n",
    "\n",
    "for idx, lam in enumerate(domain):\n",
    "    weight = np.ones((31,))\n",
    "    w_gd_lam, obj_gd_lam = gradient_descent(A, y_train, lam, 0.03, weight, max_epoch=100)\n",
    "    \n",
    "    pred_train_gd_lam = predict(w_gd_lam, A)\n",
    "    \n",
    "    GD_lambda_history_train[idx] = accuracy_score(y_train, pred_train_gd_lam)"
   ]
  },
  {
   "cell_type": "code",
   "execution_count": 37,
   "metadata": {},
   "outputs": [
    {
     "data": {
      "image/png": "[encoded data removed]",
      "text/plain": [
       "<Figure size 432x288 with 1 Axes>"
      ]
     },
     "metadata": {
      "needs_background": "light"
     },
     "output_type": "display_data"
    }
   ],
   "source": [
    "domain = np.linspace(0, 10, 50)\n",
    "\n",
    "plt.title('GD Accuracy vs Lambda')\n",
    "plt.ylabel('Accuracy', rotation=True)\n",
    "plt.xlabel('Lambda')\n",
    "plt.plot(domain, GD_lambda_history_train, 'r.', label='Train')\n",
    "plt.legend()\n",
    "plt.show()"
   ]
  },
  {
   "cell_type": "markdown",
   "metadata": {},
   "source": [
    "When lambda around 1, the model has the highest accuracy of prediction in either train and test."
   ]
  },
  {
   "cell_type": "markdown",
   "metadata": {},
   "source": [
    "I set lambda to 1 then try the learning rate between 0.01 to 1"
   ]
  },
  {
   "cell_type": "code",
   "execution_count": 38,
   "metadata": {},
   "outputs": [],
   "source": [
    "domain = np.linspace(0.01, 1, 50)\n",
    "n = len(domain)\n",
    "\n",
    "GD_learn_history_train = np.zeros((n, 1))\n",
    "\n",
    "for idx, learning in enumerate(domain):\n",
    "    weight = np.ones((31,))\n",
    "    w_gd_learn, obj_gd_learn = gradient_descent(A, y_train, 1, learning, weight, max_epoch=100)\n",
    "    \n",
    "    pred_train_gd_learn = predict(w_gd_learn, A)\n",
    "    \n",
    "    GD_learn_history_train[idx] = accuracy_score(y_train, pred_train_gd_learn)"
   ]
  },
  {
   "cell_type": "code",
   "execution_count": 39,
   "metadata": {},
   "outputs": [
    {
     "data": {
      "image/png": "[encoded data removed]",
      "text/plain": [
       "<Figure size 432x288 with 1 Axes>"
      ]
     },
     "metadata": {
      "needs_background": "light"
     },
     "output_type": "display_data"
    }
   ],
   "source": [
    "domain = np.linspace(0.01, 1, 50)\n",
    "\n",
    "plt.title('GD Accuracy vs Learning rate')\n",
    "plt.ylabel('Accuracy', rotation=True)\n",
    "plt.xlabel('Learning rate')\n",
    "plt.plot(domain, GD_learn_history_train, 'r.', label='Train')\n",
    "plt.legend()\n",
    "plt.show()"
   ]
  },
  {
   "cell_type": "markdown",
   "metadata": {},
   "source": [
    "As we can see the plot above, the learning rate greater than 0.01 and less than 0.9 have better accuracy of predictions.\n",
    "\n",
    "In gradient descent section, I would say the best parameters of GD model are lambda = 1 and learning rate = 0.85."
   ]
  },
  {
   "cell_type": "markdown",
   "metadata": {},
   "source": [
    "### SGD"
   ]
  },
  {
   "cell_type": "markdown",
   "metadata": {},
   "source": [
    "Tuning lambda and set learning rate to be 0.03."
   ]
  },
  {
   "cell_type": "code",
   "execution_count": 40,
   "metadata": {},
   "outputs": [],
   "source": [
    "domain = np.linspace(0, 10, 50)\n",
    "n = len(domain)\n",
    "\n",
    "SGD_lambda_history_train = np.zeros((n, 1))\n",
    "\n",
    "for idx, lam in enumerate(domain):\n",
    "    weight = np.ones((31,))\n",
    "    w_sgd_lam, obj_sgd_lam = sgd(A, y_train, lam, 0.03, weight, max_epoch=100)\n",
    "    \n",
    "    pred_train_sgd_lam = predict(w_sgd_lam, A)\n",
    "    \n",
    "    SGD_lambda_history_train[idx] = accuracy_score(y_train, pred_train_sgd_lam)"
   ]
  },
  {
   "cell_type": "code",
   "execution_count": 41,
   "metadata": {},
   "outputs": [
    {
     "data": {
      "image/png": "[encoded data removed]",
      "text/plain": [
       "<Figure size 432x288 with 1 Axes>"
      ]
     },
     "metadata": {
      "needs_background": "light"
     },
     "output_type": "display_data"
    }
   ],
   "source": [
    "domain = np.linspace(0, 10, 50)\n",
    "\n",
    "plt.title('SGD Accuracy vs Lambda')\n",
    "plt.ylabel('Accuracy', rotation=True)\n",
    "plt.xlabel('Lambda')\n",
    "plt.plot(domain, SGD_lambda_history_train, 'r.', label='Train')\n",
    "plt.legend()\n",
    "plt.show()"
   ]
  },
  {
   "cell_type": "markdown",
   "metadata": {},
   "source": [
    "As we can the plot above, there is no pattern on increscent lambda.\n",
    "\n",
    "The higest accuracy of prediction is lambda = 0, which is non-regularized SGD model, so I set lambda = 0 and try learning rate between 0.01 to 1"
   ]
  },
  {
   "cell_type": "code",
   "execution_count": 42,
   "metadata": {},
   "outputs": [],
   "source": [
    "domain = np.linspace(0.01, 1, 50)\n",
    "n = len(domain)\n",
    "\n",
    "SGD_learn_history_train = np.zeros((n, 1))\n",
    "\n",
    "for idx, learning in enumerate(domain):\n",
    "    weight = np.ones((31,))\n",
    "    w_sgd_learn, obj_sgd_learn = sgd(A, y_train, 0, learning, weight, max_epoch=100)\n",
    "    \n",
    "    pred_train_sgd_learn = predict(w_sgd_learn, A)\n",
    "    \n",
    "    SGD_learn_history_train[idx] = accuracy_score(y_train, pred_train_sgd_learn)"
   ]
  },
  {
   "cell_type": "code",
   "execution_count": 43,
   "metadata": {},
   "outputs": [
    {
     "data": {
      "image/png": "[encoded data removed]",
      "text/plain": [
       "<Figure size 432x288 with 1 Axes>"
      ]
     },
     "metadata": {
      "needs_background": "light"
     },
     "output_type": "display_data"
    }
   ],
   "source": [
    "domain = np.linspace(0.01, 1, 50)\n",
    "\n",
    "plt.title('SGD Accuracy vs Learning rate')\n",
    "plt.ylabel('Accuracy', rotation=True)\n",
    "plt.xlabel('Learning rate')\n",
    "plt.plot(domain, SGD_learn_history_train, 'r.', label='Train')\n",
    "plt.legend()\n",
    "plt.show()"
   ]
  },
  {
   "cell_type": "markdown",
   "metadata": {},
   "source": [
    "The proper value of learning rate for training set is less than 0.1.\n",
    "\n",
    "In stochastic gradient descent section, I would say the best parameters of SGD model are lambda = 0 and learning rate = 0.05."
   ]
  },
  {
   "cell_type": "markdown",
   "metadata": {},
   "source": [
    "### MBGD"
   ]
  },
  {
   "cell_type": "markdown",
   "metadata": {},
   "source": [
    "Tuning lambda and set learning rate to be 0.03."
   ]
  },
  {
   "cell_type": "code",
   "execution_count": 44,
   "metadata": {},
   "outputs": [],
   "source": [
    "domain = np.linspace(0, 10, 50)\n",
    "n = len(domain)\n",
    "\n",
    "MBGD_lambda_history_train = np.zeros((n, 1))\n",
    "\n",
    "for idx, lam in enumerate(domain):\n",
    "    weight = np.ones((31,))\n",
    "    w_mbgd_lam, obj_mbgd_lam = mbgd(A, y_train, lam, 0.03, weight, max_epoch=100)\n",
    "    \n",
    "    pred_train_mbgd_lam = predict(w_mbgd_lam, A)\n",
    "    \n",
    "    MBGD_lambda_history_train[idx] = accuracy_score(y_train, pred_train_mbgd_lam)"
   ]
  },
  {
   "cell_type": "code",
   "execution_count": 45,
   "metadata": {},
   "outputs": [
    {
     "data": {
      "image/png": "[encoded data removed]",
      "text/plain": [
       "<Figure size 432x288 with 1 Axes>"
      ]
     },
     "metadata": {
      "needs_background": "light"
     },
     "output_type": "display_data"
    }
   ],
   "source": [
    "domain = np.linspace(0, 10, 50)\n",
    "\n",
    "plt.title('MBGD Accuracy vs Lambda')\n",
    "plt.ylabel('Accuracy', rotation=True)\n",
    "plt.xlabel('Lambda')\n",
    "plt.plot(domain, MBGD_lambda_history_train, 'r.', label='Train')\n",
    "plt.legend()\n",
    "plt.show()"
   ]
  },
  {
   "cell_type": "markdown",
   "metadata": {},
   "source": [
    "The lambda below 3 have better performance than above, but I'd to select lambda = 0 beacuse it has the best performance for training set"
   ]
  },
  {
   "cell_type": "code",
   "execution_count": 46,
   "metadata": {},
   "outputs": [],
   "source": [
    "domain = np.linspace(0.01, 1, 50)\n",
    "n = len(domain)\n",
    "\n",
    "MBGD_learn_history_train = np.zeros((n, 1))\n",
    "\n",
    "for idx, learning in enumerate(domain):\n",
    "    weight = np.ones((31,))\n",
    "    w_mbgd_learn, obj_mbgd_learn = mbgd(A, y_train, 0, learning, weight, max_epoch=100)\n",
    "    \n",
    "    pred_train_mbgd_learn = predict(w_mbgd_learn, A)\n",
    "    \n",
    "    MBGD_learn_history_train[idx] = accuracy_score(y_train, pred_train_mbgd_learn)"
   ]
  },
  {
   "cell_type": "code",
   "execution_count": 47,
   "metadata": {},
   "outputs": [
    {
     "data": {
      "image/png": "[encoded data removed]",
      "text/plain": [
       "<Figure size 432x288 with 1 Axes>"
      ]
     },
     "metadata": {
      "needs_background": "light"
     },
     "output_type": "display_data"
    }
   ],
   "source": [
    "domain = np.linspace(0.01, 1, 50)\n",
    "\n",
    "plt.title('MBGD Accuracy vs Learning rate')\n",
    "plt.ylabel('Accuracy', rotation=True)\n",
    "plt.xlabel('Learning rate')\n",
    "plt.plot(domain, MBGD_learn_history_train, 'r.', label='Train')\n",
    "plt.legend()\n",
    "plt.show()"
   ]
  },
  {
   "cell_type": "markdown",
   "metadata": {},
   "source": [
    "The proper value of learning rate for training set is around 0.8.\n",
    "\n",
    "In mini-batch gradient descent section, I would say the best parameters of MBGD model are lambda = 0 and learning rate = 0.80."
   ]
  },
  {
   "cell_type": "markdown",
   "metadata": {},
   "source": [
    "### Conclusion"
   ]
  },
  {
   "cell_type": "markdown",
   "metadata": {},
   "source": [
    "GD: lambda = 1, learning rate = 0.85;"
   ]
  },
  {
   "cell_type": "code",
   "execution_count": 48,
   "metadata": {},
   "outputs": [
    {
     "name": "stdout",
     "output_type": "stream",
     "text": [
      "Accuracy of train GD: 0.9560439560439561\n",
      "Accuracy of test GD: 0.956140350877193\n"
     ]
    }
   ],
   "source": [
    "weight = np.ones((31,))\n",
    "w_gd_best, obj_gd_best = gradient_descent(A, y_train, 1, 0.85, weight, max_epoch=100)\n",
    "\n",
    "pred_train_gd_best = predict(w_gd_best, A)\n",
    "pred_test_gd_best = predict(w_gd_best, B)\n",
    "\n",
    "print('Accuracy of train GD:', accuracy_score(y_train, pred_train_gd_best))\n",
    "print('Accuracy of test GD:', accuracy_score(y_test, pred_test_gd_best))"
   ]
  },
  {
   "cell_type": "markdown",
   "metadata": {},
   "source": [
    " "
   ]
  },
  {
   "cell_type": "markdown",
   "metadata": {},
   "source": [
    "\n",
    "\n",
    "SGD: lambda = 0, learning rate = 0.05;"
   ]
  },
  {
   "cell_type": "code",
   "execution_count": 49,
   "metadata": {},
   "outputs": [
    {
     "name": "stdout",
     "output_type": "stream",
     "text": [
      "Accuracy of train SGD: 0.9912087912087912\n",
      "Accuracy of test SGD: 0.9736842105263158\n"
     ]
    }
   ],
   "source": [
    "weight = np.ones((31,))\n",
    "w_sgd_best, obj_sgd_best = sgd(A, y_train, 0, 0.05, weight, max_epoch=100)\n",
    "\n",
    "pred_train_sgd_best = predict(w_sgd_best, A)\n",
    "pred_test_sgd_best = predict(w_sgd_best, B)\n",
    "\n",
    "print('Accuracy of train SGD:', accuracy_score(y_train, pred_train_sgd_best))\n",
    "print('Accuracy of test SGD:', accuracy_score(y_test, pred_test_sgd_best))"
   ]
  },
  {
   "cell_type": "markdown",
   "metadata": {},
   "source": [
    " "
   ]
  },
  {
   "cell_type": "markdown",
   "metadata": {},
   "source": [
    "MBGD: lambda = 0, learning rate = 0.80."
   ]
  },
  {
   "cell_type": "code",
   "execution_count": 50,
   "metadata": {},
   "outputs": [
    {
     "name": "stdout",
     "output_type": "stream",
     "text": [
      "Accuracy of train MBGD: 0.989010989010989\n",
      "Accuracy of test MBGD: 0.9824561403508771\n"
     ]
    }
   ],
   "source": [
    "weight = np.ones((31,))\n",
    "w_mbgd_best, obj_mbgd_best = mbgd(A, y_train, 0, 0.80, weight, max_epoch=100)\n",
    "\n",
    "pred_train_mbgd_best = predict(w_mbgd_best, A)\n",
    "pred_test_mbgd_best = predict(w_mbgd_best, B)\n",
    "\n",
    "print('Accuracy of train MBGD:', accuracy_score(y_train, pred_train_mbgd_best))\n",
    "print('Accuracy of test MBGD:', accuracy_score(y_test, pred_test_mbgd_best))"
   ]
  },
  {
   "cell_type": "markdown",
   "metadata": {},
   "source": [
    " "
   ]
  },
  {
   "cell_type": "markdown",
   "metadata": {},
   "source": [
    "In conclusion, the parameters that I selected are NOT the best because the training and test set are different if I run train_test_split() function. \n",
    "\n",
    "Therefore, the parameters are only proper in this assignment.\n",
    "\n",
    "Another fact the I found is that the MBGD has the highest speed of training time, this fact follows the definition of MBGD."
   ]
  },
  {
   "cell_type": "code",
   "execution_count": null,
   "metadata": {},
   "outputs": [],
   "source": []
  }
 ],
 "metadata": {
  "kernelspec": {
   "display_name": "Python 3",
   "language": "python",
   "name": "python3"
  },
  "language_info": {
   "codemirror_mode": {
    "name": "ipython",
    "version": 3
   },
   "file_extension": ".py",
   "mimetype": "text/x-python",
   "name": "python",
   "nbconvert_exporter": "python",
   "pygments_lexer": "ipython3",
   "version": "3.8.8"
  }
 },
 "nbformat": 4,
 "nbformat_minor": 4
}
